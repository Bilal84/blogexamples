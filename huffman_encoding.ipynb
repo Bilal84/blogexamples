{
 "cells": [
  {
   "cell_type": "code",
   "execution_count": 10,
   "metadata": {
    "collapsed": false
   },
   "outputs": [],
   "source": [
    "import urllib2\n",
    "from collections import Counter\n",
    "response = urllib2.urlopen('http://erdani.com/tdpl/hamlet.txt')\n",
    "text_to_encode = response.read()"
   ]
  },
  {
   "cell_type": "code",
   "execution_count": 11,
   "metadata": {
    "collapsed": false
   },
   "outputs": [],
   "source": [
    "class Node:\n",
    "    def __init__(self, key, value):\n",
    "        self.key = key\n",
    "        self.value = value\n",
    "        self.left = None\n",
    "        self.right = None\n",
    "        \n",
    "    def children(self):\n",
    "        c = []\n",
    "        if self.left:\n",
    "            c.append(self.left)\n",
    "        if self.right:\n",
    "            c.append(self.right)\n",
    "        return c\n",
    "    \n",
    "    def __str__(self):\n",
    "        return \"{}({})\".format(self.key, self.value)"
   ]
  },
  {
   "cell_type": "code",
   "execution_count": 12,
   "metadata": {
    "collapsed": false,
    "scrolled": true
   },
   "outputs": [],
   "source": [
    "def nodify(items):\n",
    "    return [Node(k, v) for k, v in items]\n",
    "\n",
    "def build_node(n1, n2):\n",
    "    n = Node(\"{}_{}\".format(n1.key, n2.key), n1.value + n2.value)\n",
    "    n.left = n1\n",
    "    n.right = n2\n",
    "    return n\n",
    "\n",
    "def sorted_insert(node, nodes):\n",
    "    nodes.append(node)\n",
    "    nodes = sorted(nodes, key=lambda n: n.value)\n",
    "    return nodes\n",
    "    \n",
    "def print_nodes(nodes):\n",
    "    for n in nodes:\n",
    "        print n,\n",
    "    print\n",
    "        \n",
    "def build_huffman_tree(counter):\n",
    "    keys = counter.keys()\n",
    "    items = counter.most_common()\n",
    "    items.reverse()\n",
    "    nodes = nodify(items)\n",
    "    \n",
    "    while len(nodes) != 1:\n",
    "        #print_nodes(nodes)\n",
    "        n1 = nodes.pop(0)\n",
    "        n2 = nodes.pop(0)\n",
    "        new_node = build_node(n1, n2)\n",
    "        nodes = sorted_insert(new_node, nodes) \n",
    "    return nodes[0]"
   ]
  },
  {
   "cell_type": "code",
   "execution_count": 13,
   "metadata": {
    "collapsed": true
   },
   "outputs": [],
   "source": [
    "def encoding_for_key(key, root):\n",
    "    if root.key == key:\n",
    "        return ''\n",
    "    \n",
    "    left = root.left\n",
    "    right = root.right\n",
    "    if left:\n",
    "        ret_val = encoding_for_key(key, left)\n",
    "        if type(ret_val) == str:\n",
    "            return '0' + ret_val\n",
    "\n",
    "    if right:\n",
    "        ret_val = encoding_for_key(key, right)\n",
    "        if type(ret_val) == str:\n",
    "            return '1' + ret_val\n",
    "    return False\n",
    "\n",
    "def build_table(keys, root):\n",
    "    table = {}\n",
    "    for k in keys:\n",
    "        print(\"{}: {}\".format(k, encoding_for_key(k, root)))\n",
    "        table[k] = encoding_for_key(k, root)\n",
    "    return table"
   ]
  },
  {
   "cell_type": "code",
   "execution_count": 16,
   "metadata": {
    "collapsed": false
   },
   "outputs": [
    {
     "name": "stdout",
     "output_type": "stream",
     "text": [
      "\n",
      ": 00010\n",
      "!: 011001100\n",
      " : 10\n",
      "\": 0000000011001010\n",
      "': 0001111\n",
      "&: 0000000011001001\n",
      "): 000110111110\n",
      "(: 000110111111\n",
      "-: 000110110\n",
      ",: 011100\n",
      ".: 011110\n",
      "1: 00000000110011\n",
      "0: 0000000011001000\n",
      "4: 00000000110010111\n",
      "6: 00000000110010110\n",
      ";: 011111101\n",
      ":: 000000001101\n",
      "?: 110100110\n",
      "A: 01100100\n",
      "C: 0110010100\n",
      "B: 000110100\n",
      "E: 000000000\n",
      "D: 0001101011\n",
      "G: 000000101\n",
      "F: 0111111000\n",
      "I: 01111111\n",
      "H: 11010010\n",
      "K: 0110010111\n",
      "J: 0000000011000\n",
      "M: 000000110\n",
      "L: 000000100\n",
      "O: 011001101\n",
      "N: 0110010110\n",
      "Q: 11010011101\n",
      "P: 1101001111\n",
      "S: 000000111\n",
      "R: 0001101110\n",
      "U: 000000001111\n",
      "T: 01100111\n",
      "W: 00000001\n",
      "V: 000000001110\n",
      "Y: 0001101010\n",
      "[: 0000000010\n",
      "]: 11010011100\n",
      "a: 0010\n",
      "c: 001110\n",
      "b: 0111110\n",
      "e: 1100\n",
      "d: 00110\n",
      "g: 000001\n",
      "f: 001111\n",
      "i: 11100\n",
      "h: 11101\n",
      "k: 0001100\n",
      "j: 01111110010\n",
      "m: 110101\n",
      "l: 01101\n",
      "o: 0100\n",
      "n: 11110\n",
      "q: 01111110011\n",
      "p: 1101000\n",
      "s: 11111\n",
      "r: 11011\n",
      "u: 00001\n",
      "t: 0101\n",
      "w: 011000\n",
      "v: 0001110\n",
      "y: 011101\n",
      "x: 0110010101\n",
      "z: 00011011110\n",
      "Original Data: 1533872 bits\n",
      "Encoded Data: 843328 bits\n",
      "Achieved a 54% compression\n"
     ]
    }
   ],
   "source": [
    "def encode(text_to_encode):\n",
    "    # Count the characters in the text\n",
    "    chars = list(text_to_encode)\n",
    "    counter = Counter(chars)\n",
    "    \n",
    "    # Build huffman tree from counts\n",
    "    root = build_huffman_tree(counter)\n",
    "    \n",
    "    # Build table for each character in counter\n",
    "    table = build_table(counter.keys(), root)\n",
    "    encoding = ''.join([table[c] for c in chars])\n",
    "    return encoding, table\n",
    "\n",
    "encoding, table = encode(text_to_encode)\n",
    "original_size = len(text_to_encode) * 8\n",
    "encoded_size = len(encoding)\n",
    "print \"Original Data: {} bits\".format(original_size)\n",
    "print \"Encoded Data: {} bits\".format(encoded_size)\n",
    "print \"Achieved a {}% compression\".format(int(float(encoded_size) / original_size * 100))"
   ]
  },
  {
   "cell_type": "code",
   "execution_count": 17,
   "metadata": {
    "collapsed": false
   },
   "outputs": [],
   "source": [
    "def decode(encoding, table):\n",
    "    reverse_table = { v:k for k, v in table.items() }\n",
    "    str_so_far = ''\n",
    "    decoding = ''\n",
    "    for b in encoding: \n",
    "        str_so_far += b\n",
    "        if str_so_far in reverse_table.keys():\n",
    "            decoding += reverse_table[str_so_far]\n",
    "            str_so_far = ''\n",
    "    return decoding \n",
    "decoding = decode(encoding, table)"
   ]
  },
  {
   "cell_type": "code",
   "execution_count": 18,
   "metadata": {
    "collapsed": false
   },
   "outputs": [
    {
     "name": "stdout",
     "output_type": "stream",
     "text": [
      "Decoded input is correct!\n"
     ]
    }
   ],
   "source": [
    "assert decoding == text_to_encode\n",
    "print(\"Decoded input is correct!\")"
   ]
  },
  {
   "cell_type": "code",
   "execution_count": null,
   "metadata": {
    "collapsed": true
   },
   "outputs": [],
   "source": []
  }
 ],
 "metadata": {
  "kernelspec": {
   "display_name": "Python 2",
   "language": "python",
   "name": "python2"
  },
  "language_info": {
   "codemirror_mode": {
    "name": "ipython",
    "version": 2
   },
   "file_extension": ".py",
   "mimetype": "text/x-python",
   "name": "python",
   "nbconvert_exporter": "python",
   "pygments_lexer": "ipython2",
   "version": "2.7.10"
  }
 },
 "nbformat": 4,
 "nbformat_minor": 0
}
