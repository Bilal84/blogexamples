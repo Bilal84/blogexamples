{
 "cells": [
  {
   "cell_type": "code",
   "execution_count": 1,
   "metadata": {
    "collapsed": false
   },
   "outputs": [],
   "source": [
    "%matplotlib inline\n",
    "#%pylab inline\n",
    "#pylab.rcParams['figure.figsize'] = (10, 6)\n",
    "\n",
    "import matplotlib.pyplot as plt\n",
    "import random\n",
    "import seaborn as sns\n",
    "import numpy as np\n",
    "\n",
    "class Node:\n",
    "    def __init__(self, **kwargs):\n",
    "        if 'name' in kwargs:\n",
    "            self._name = kwargs['name']\n",
    "        \n",
    "    def name(self):\n",
    "        if self._name:\n",
    "            return self._name\n",
    "        return self.__class__.__name__\n",
    "    \n",
    "    def __str__(self):\n",
    "        return self.name()\n",
    "\n",
    "class ValNode(Node):\n",
    "    def __init__(self, **kwargs):\n",
    "        Node.__init__(self, **kwargs)\n",
    "        \n",
    "    def path_to_variables(self, path_so_far, feed_dict={}):\n",
    "        path_so_far.insert(0, (self.__class__, self, self.compute(feed_dict)))\n",
    "        return path_so_far\n",
    "    \n",
    "class SingleOpNode(Node):\n",
    "    def __init__(self, **kwargs):\n",
    "        Node.__init__(self, **kwargs)\n",
    "        \n",
    "    def path_to_variables(self, path_so_far, feed_dict={}):\n",
    "        path_so_far.insert(0, (self.__class__, self, self.compute(feed_dict)))\n",
    "        return path_so_far\n",
    "    \n",
    "class VariableNode(ValNode):\n",
    "    def __init__(self, val, **kwargs):\n",
    "        ValNode.__init__(self, **kwargs)\n",
    "        self.val = val\n",
    "        \n",
    "    def print_value(self, feed_dict):\n",
    "        print(\"{}: {}\".format(self.name(), self.val))\n",
    "        \n",
    "    def compute(self, feed_dict={}):\n",
    "        return self.val\n",
    "\n",
    "class PlaceholderNode(ValNode):\n",
    "    def __init__(self, **kwargs):\n",
    "        ValNode.__init__(self, **kwargs)\n",
    "    \n",
    "    def print_value(self, feed_dict):\n",
    "        if self not in feed_dict:\n",
    "            raise ValueError(\"Uh oh!\")\n",
    "        print(\"{}: {}\".format(self.name(), feed_dict[self]))\n",
    "\n",
    "    def compute(self, feed_dict={}):\n",
    "        if self not in feed_dict:\n",
    "            raise ValueError(\"Uh oh!\")\n",
    "        return feed_dict[self]\n",
    "\n",
    "class MultiOpNode(Node):\n",
    "    def __init__(self, node_a, node_b, **kwargs):\n",
    "        Node.__init__(self, **kwargs)\n",
    "        self.node_a = node_a\n",
    "        self.node_b = node_b\n",
    "\n",
    "    def __str__(self):\n",
    "        left = self.node_a\n",
    "        right = self.node_b\n",
    "        return \"\\n{} - {} - {}\".format(str(left), self.name(), str(right))\n",
    "    \n",
    "    def print_value(self, feed_dict):\n",
    "        self.node_a.print_value(feed_dict)\n",
    "        self.node_b.print_value(feed_dict)\n",
    "        print(\"{}: {}\".format(self.name(), self.compute(feed_dict)))\n",
    "\n",
    "        \n",
    "    def path_to_variables(self, path_so_far, feed_dict={}):\n",
    "        p1 = list(path_so_far)\n",
    "        p2 = list(path_so_far)\n",
    "        \n",
    "        p1.insert(0, (self.__class__, self, self.left_derivative(feed_dict)))\n",
    "        p2.insert(0, (self.__class__, self, self.right_derivative(feed_dict)))\n",
    "        \n",
    "        left = self.node_a.path_to_variables(p1, feed_dict)\n",
    "        right = self.node_b.path_to_variables(p2, feed_dict)\n",
    "        \n",
    "        if type(left[0]) == list and type(right[0]) == list:\n",
    "            # we should join the lists\n",
    "            paths = left + right\n",
    "        if type(left[0]) == list and type(right[0]) != list:\n",
    "            left.append(right)\n",
    "            paths = left\n",
    "        if type(left[0]) != list and type(right[0]) == list:\n",
    "            paths = right.append(left)\n",
    "            paths = right\n",
    "        if type(left[0]) != list and type(right[0]) != list:\n",
    "            paths = [left, right]\n",
    "        return paths\n",
    "\n",
    "class MultiplyNode(MultiOpNode):\n",
    "    def left_derivative(self, feed_dict):\n",
    "        return self.node_b.compute(feed_dict)\n",
    "                  \n",
    "    def right_derivative(self, feed_dict):\n",
    "        return self.node_a.compute(feed_dict)\n",
    "                  \n",
    "    def compute(self, feed_dict={}):\n",
    "        val_a = self.node_a.compute(feed_dict)\n",
    "        val_b = self.node_b.compute(feed_dict) \n",
    "        return val_a * val_b\n",
    "    \n",
    "class SubtractNode(MultiOpNode):\n",
    "    def left_derivative(self, feed_dict):\n",
    "        return 1\n",
    "                  \n",
    "    def right_derivative(self, feed_dict):\n",
    "        return -1\n",
    "    \n",
    "    def compute(self, feed_dict={}):\n",
    "        val_a = self.node_a.compute(feed_dict) \n",
    "        val_b = self.node_b.compute(feed_dict) \n",
    "        return val_a - val_b\n",
    "\n",
    "class AddNode(MultiOpNode):\n",
    "    def left_derivative(self, feed_dict):\n",
    "        return 1\n",
    "                  \n",
    "    def right_derivative(self, feed_dict):\n",
    "        return 1\n",
    "\n",
    "    def compute(self, feed_dict={}):\n",
    "        val_a = self.node_a.compute(feed_dict) \n",
    "        val_b = self.node_b.compute(feed_dict) \n",
    "        return val_a + val_b\n",
    "    \n",
    "class SquaredNode(SingleOpNode):\n",
    "    def __init__(self, node, **kwargs):\n",
    "        SingleOpNode.__init__(self, **kwargs)\n",
    "        self.node = node\n",
    "    \n",
    "    def print_value(self, feed_dict):\n",
    "        self.node.print_value(feed_dict)\n",
    "        print(\"{}: {}\".format(self.name(), self.compute(feed_dict)))\n",
    "\n",
    "    def compute(self, feed_dict={}):\n",
    "        return self.node.compute(feed_dict) ** 2\n",
    "    \n",
    "    def path_to_variables(self, path_so_far, feed_dict={}):\n",
    "        p = list(path_so_far)\n",
    "        g = self.node.compute(feed_dict) \n",
    "        p.insert(0, (self.__class__, self, 2 * g))\n",
    "        \n",
    "        return self.node.path_to_variables(p, feed_dict)"
   ]
  },
  {
   "cell_type": "code",
   "execution_count": 2,
   "metadata": {
    "collapsed": true
   },
   "outputs": [],
   "source": [
    "def noise(size=5.):\n",
    "    return size * random.random() - (size / 2)\n",
    "\n",
    "def generate_quadratic_data(n=20, m=0.25, b=10):\n",
    "    X = [0] * n\n",
    "    y = [0] * n\n",
    "    for i in range(n):\n",
    "        X[i] = float(i)\n",
    "        y[i] = m * (X[i]**2) + b + noise(X[i])\n",
    "        \n",
    "    return X, y\n",
    "\n",
    "def generate_linear_data(n=20, m=.4, b=90):\n",
    "    X = [0] * n\n",
    "    y = [0] * n\n",
    "    for i in range(n):\n",
    "        X[i] = float(i)\n",
    "        y[i] = (X[i]) * m + b + noise()\n",
    "    return X, y"
   ]
  },
  {
   "cell_type": "code",
   "execution_count": 3,
   "metadata": {
    "collapsed": true
   },
   "outputs": [],
   "source": [
    "# Linear Model\n",
    "\n",
    "X, Y = generate_linear_data()\n",
    "\n",
    "x = PlaceholderNode(name=\"x\")\n",
    "y = PlaceholderNode(name=\"y\")\n",
    "\n",
    "m = VariableNode(random.random(), name=\"m\")\n",
    "b = VariableNode(random.random(), name=\"b\")\n",
    "\n",
    "prediction = AddNode(MultiplyNode(m, x, name='multiply'), b, name='prediction')\n",
    "cost = SubtractNode(prediction, y, name='cost')\n",
    "error = SquaredNode(cost, name='error')"
   ]
  },
  {
   "cell_type": "code",
   "execution_count": 4,
   "metadata": {
    "collapsed": false
   },
   "outputs": [
    {
     "data": {
      "text/plain": [
       "[<matplotlib.text.Text at 0x107e7be90>, <matplotlib.text.Text at 0x107e90110>]"
      ]
     },
     "execution_count": 4,
     "metadata": {},
     "output_type": "execute_result"
    },
    {
     "data": {
      "image/png": "[encoded data removed]",
      "text/plain": [
       "<matplotlib.figure.Figure at 0x107e65d50>"
      ]
     },
     "metadata": {},
     "output_type": "display_data"
    }
   ],
   "source": [
    "ax = sns.regplot(x=np.array(X), y=np.array(Y), fit_reg=False)\n",
    "ax.set(xlabel='Test Score', ylabel='IQ')\n"
   ]
  },
  {
   "cell_type": "code",
   "execution_count": 5,
   "metadata": {
    "collapsed": false,
    "scrolled": true
   },
   "outputs": [],
   "source": [
    "class Session:\n",
    "    def compute(self, node, feed_dict={}):\n",
    "        return node.compute(feed_dict)\n",
    "    \n",
    "    def find_all_paths_to_variables(self, node, feed_dict={}):\n",
    "        paths = node.path_to_variables([], feed_dict)\n",
    "        return paths\n",
    "        \n",
    "    def minimize(self, node, learning_rate=0.001, feed_dict={}):\n",
    "        val = self.compute(node, feed_dict)\n",
    "        gradient_paths = self.find_all_paths_to_variables(node, feed_dict)\n",
    "        gradient_map = self.compute_gradients(gradient_paths)\n",
    "        for k, v in gradient_map.items():\n",
    "            update = learning_rate * v['gradient']\n",
    "            v['instance'].val -= update\n",
    "            \n",
    "    def compute_gradients(self, gradient_paths):\n",
    "        gradient_map = {}\n",
    "        for path in gradient_paths:\n",
    "            # The first node will either be a variable node or a placeholder node\n",
    "            klass, instance, grad = path[0]\n",
    "            if klass == VariableNode:\n",
    "                gradient_map[instance.name()] = {\n",
    "                    'instance': instance,\n",
    "                    'gradient': self.compute_gradient_for_path(path),\n",
    "                }\n",
    "        return gradient_map\n",
    "                \n",
    "    def compute_gradient_for_path(self, path):\n",
    "        return reduce(lambda a, b: a * b, [g for k, i, g in path[1:]])\n",
    "    \n",
    "    def print_node_values(self, node, feed_dict={}):\n",
    "        node.print_value(feed_dict)"
   ]
  },
  {
   "cell_type": "code",
   "execution_count": 6,
   "metadata": {
    "collapsed": false
   },
   "outputs": [],
   "source": [
    "sess = Session()\n",
    "EPOCHS = 500\n",
    "for i in range(EPOCHS):\n",
    "    for i in range(len(X)):\n",
    "        x_i = X[i]\n",
    "        y_i = Y[i]\n",
    "        \n",
    "        sess.minimize(error, feed_dict={x: x_i, y: y_i})"
   ]
  },
  {
   "cell_type": "code",
   "execution_count": 7,
   "metadata": {
    "collapsed": false
   },
   "outputs": [
    {
     "data": {
      "text/plain": [
       "[<matplotlib.lines.Line2D at 0x10c3433d0>]"
      ]
     },
     "execution_count": 7,
     "metadata": {},
     "output_type": "execute_result"
    },
    {
     "data": {
      "image/png": "[encoded data removed]",
      "text/plain": [
       "<matplotlib.figure.Figure at 0x10c359410>"
      ]
     },
     "metadata": {},
     "output_type": "display_data"
    }
   ],
   "source": [
    "sns.regplot(x=np.array(X), y=np.array(Y), fit_reg=False)\n",
    "points_x = np.linspace(min(X), max(X), 100)\n",
    "points_y = [sess.compute(prediction, feed_dict={x:p}) for p in points_x]\n",
    "plt.plot(points_x, points_y, 'r')"
   ]
  },
  {
   "cell_type": "code",
   "execution_count": 8,
   "metadata": {
    "collapsed": false
   },
   "outputs": [],
   "source": [
    "# Quadratic Model\n",
    "\n",
    "X, Y = generate_quadratic_data()\n",
    "\n",
    "x = PlaceholderNode(name=\"x\")\n",
    "y = PlaceholderNode(name=\"y\")\n",
    "\n",
    "m = VariableNode(random.random(), name=\"m\")\n",
    "b = VariableNode(random.random(), name=\"b\")\n",
    "\n",
    "prediction = AddNode(SquaredNode(MultiplyNode(m, x, name='multiply'), name='squared'), b, name='prediction')\n",
    "cost = SubtractNode(prediction, y, name='cost')\n",
    "error = SquaredNode(cost, name='error')"
   ]
  },
  {
   "cell_type": "code",
   "execution_count": 9,
   "metadata": {
    "collapsed": false
   },
   "outputs": [
    {
     "data": {
      "image/png": "[encoded data removed]",
      "text/plain": [
       "<matplotlib.figure.Figure at 0x107e65790>"
      ]
     },
     "metadata": {},
     "output_type": "display_data"
    }
   ],
   "source": [
    "ax = sns.regplot(x=np.array(X), y=np.array(Y), fit_reg=False)"
   ]
  },
  {
   "cell_type": "code",
   "execution_count": 12,
   "metadata": {
    "collapsed": false
   },
   "outputs": [],
   "source": [
    "sess = Session()\n",
    "EPOCHS = 50000\n",
    "for i in range(EPOCHS):\n",
    "    for i in range(len(X)):\n",
    "        x_i = X[i]\n",
    "        y_i = Y[i]\n",
    "        sess.minimize(error, learning_rate=0.000001, feed_dict={x: x_i, y: y_i})\n",
    "        m_val = sess.compute(m, feed_dict={x: x_i, y: y_i})\n",
    "        b_val = sess.compute(b, feed_dict={x: x_i, y: y_i})\n",
    "        #print(\"m: {}, b: {}\".format(m_val, b_val))"
   ]
  },
  {
   "cell_type": "code",
   "execution_count": 13,
   "metadata": {
    "collapsed": false
   },
   "outputs": [
    {
     "data": {
      "text/plain": [
       "[<matplotlib.lines.Line2D at 0x107e657d0>]"
      ]
     },
     "execution_count": 13,
     "metadata": {},
     "output_type": "execute_result"
    },
    {
     "data": {
      "image/png": "[encoded data removed]",
      "text/plain": [
       "<matplotlib.figure.Figure at 0x10c61d050>"
      ]
     },
     "metadata": {},
     "output_type": "display_data"
    }
   ],
   "source": [
    "sns.regplot(x=np.array(X), y=np.array(Y), fit_reg=False)\n",
    "points_x = np.linspace(min(X), max(X), 100)\n",
    "points_y = [sess.compute(prediction, feed_dict={x:p}) for p in points_x]\n",
    "plt.plot(points_x, points_y, 'r')"
   ]
  },
  {
   "cell_type": "code",
   "execution_count": null,
   "metadata": {
    "collapsed": true
   },
   "outputs": [],
   "source": []
  }
 ],
 "metadata": {
  "kernelspec": {
   "display_name": "Python 2",
   "language": "python",
   "name": "python2"
  },
  "language_info": {
   "codemirror_mode": {
    "name": "ipython",
    "version": 2
   },
   "file_extension": ".py",
   "mimetype": "text/x-python",
   "name": "python",
   "nbconvert_exporter": "python",
   "pygments_lexer": "ipython2",
   "version": "2.7.10"
  }
 },
 "nbformat": 4,
 "nbformat_minor": 0
}
