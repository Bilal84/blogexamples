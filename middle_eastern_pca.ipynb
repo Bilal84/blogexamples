{
 "cells": [
  {
   "cell_type": "markdown",
   "metadata": {},
   "source": [
    "# What happens if we apply PCA to middle eastern relations?\n",
    "![Middle Eastern Relations](tmp/middle_eastern_relations/middle_eastern_relations.png)"
   ]
  },
  {
   "cell_type": "code",
   "execution_count": 1,
   "metadata": {
    "collapsed": false
   },
   "outputs": [
    {
     "name": "stderr",
     "output_type": "stream",
     "text": [
      "/Users/chriszhu/my-venv/lib/python2.7/site-packages/bs4/__init__.py:166: UserWarning: No parser was explicitly specified, so I'm using the best available HTML parser for this system (\"lxml\"). This usually isn't a problem, but if you run this code on another system, or in a different virtual environment, it may use a different parser and behave differently.\n",
      "\n",
      "To get rid of this warning, change this:\n",
      "\n",
      " BeautifulSoup([your markup])\n",
      "\n",
      "to this:\n",
      "\n",
      " BeautifulSoup([your markup], \"lxml\")\n",
      "\n",
      "  markup_type=markup_type))\n"
     ]
    }
   ],
   "source": [
    "from bs4 import BeautifulSoup\n",
    "import numpy as np\n",
    "FRIEND = 2\n",
    "COMPLICATED = -1\n",
    "SAME = 0\n",
    "ENEMY = -2\n",
    "\n",
    "soup = BeautifulSoup(open('tmp/middle_eastern_relations/relationship.html'), 'html')\n",
    "def parse_header(tr):\n",
    "    cols = tr.find_all('td', {'class': 'row_header'})\n",
    "    if len(cols) <= 0:\n",
    "        return None\n",
    "    country_name = cols[0].text\n",
    "    return country_name\n",
    "\n",
    "def parse_row(tr):\n",
    "    cols = tr.find_all('td', {'class': 'int_cell'})\n",
    "    data = np.zeros(len(cols))\n",
    "    for i, col in enumerate(cols):\n",
    "        relationship = col.get('class')[1]\n",
    "        if relationship == 'enemy':\n",
    "            data[i] = ENEMY\n",
    "        elif relationship == 'same':\n",
    "            data[i] = SAME\n",
    "        elif relationship == 'complicated':\n",
    "            data[i] = COMPLICATED\n",
    "        elif relationship == 'friend':\n",
    "            data[i] = FRIEND\n",
    "    return data\n",
    "    \n",
    "rows = soup.find_all('tr')\n",
    "headers = []\n",
    "for i, row in enumerate(rows):    \n",
    "    if i == 0:\n",
    "        continue\n",
    "    header = parse_header(row)\n",
    "    headers.append(header)\n",
    "    \n",
    "countries_to_headers = { c: i for i, c in enumerate(headers) }\n",
    "countries_to_headers\n",
    "\n",
    "relationship_matrix = np.zeros((len(headers), len(headers)))\n",
    "\n",
    "for i, row in enumerate(rows):    \n",
    "    if i == 0:\n",
    "        continue\n",
    "    result = parse_row(row)\n",
    "    relationship_matrix[i - 1, :] = result\n"
   ]
  },
  {
   "cell_type": "code",
   "execution_count": 2,
   "metadata": {
    "collapsed": false
   },
   "outputs": [
    {
     "name": "stdout",
     "output_type": "stream",
     "text": [
      "Populating the interactive namespace from numpy and matplotlib\n"
     ]
    },
    {
     "data": {
      "text/html": [
       "<div>\n",
       "<table border=\"1\" class=\"dataframe\">\n",
       "  <thead>\n",
       "    <tr style=\"text-align: right;\">\n",
       "      <th></th>\n",
       "      <th>x</th>\n",
       "      <th>y</th>\n",
       "      <th>country</th>\n",
       "    </tr>\n",
       "  </thead>\n",
       "  <tbody>\n",
       "    <tr>\n",
       "      <th>0</th>\n",
       "      <td>0.266371</td>\n",
       "      <td>-3.784399</td>\n",
       "      <td>Al-Qaida</td>\n",
       "    </tr>\n",
       "    <tr>\n",
       "      <th>1</th>\n",
       "      <td>-3.587878</td>\n",
       "      <td>2.914003</td>\n",
       "      <td>Egypt</td>\n",
       "    </tr>\n",
       "    <tr>\n",
       "      <th>2</th>\n",
       "      <td>0.242095</td>\n",
       "      <td>-3.463979</td>\n",
       "      <td>Hamas</td>\n",
       "    </tr>\n",
       "    <tr>\n",
       "      <th>3</th>\n",
       "      <td>4.714143</td>\n",
       "      <td>0.662909</td>\n",
       "      <td>Hezbollah</td>\n",
       "    </tr>\n",
       "    <tr>\n",
       "      <th>4</th>\n",
       "      <td>4.555367</td>\n",
       "      <td>1.152477</td>\n",
       "      <td>Iran</td>\n",
       "    </tr>\n",
       "    <tr>\n",
       "      <th>5</th>\n",
       "      <td>2.532204</td>\n",
       "      <td>4.436877</td>\n",
       "      <td>Iraq</td>\n",
       "    </tr>\n",
       "    <tr>\n",
       "      <th>6</th>\n",
       "      <td>-0.258022</td>\n",
       "      <td>-3.811316</td>\n",
       "      <td>ISIS</td>\n",
       "    </tr>\n",
       "    <tr>\n",
       "      <th>7</th>\n",
       "      <td>-3.873786</td>\n",
       "      <td>0.387117</td>\n",
       "      <td>Israel</td>\n",
       "    </tr>\n",
       "    <tr>\n",
       "      <th>8</th>\n",
       "      <td>-0.419265</td>\n",
       "      <td>0.117316</td>\n",
       "      <td>Palestinian Authority</td>\n",
       "    </tr>\n",
       "    <tr>\n",
       "      <th>9</th>\n",
       "      <td>-3.964805</td>\n",
       "      <td>0.848246</td>\n",
       "      <td>Saudi Arabia</td>\n",
       "    </tr>\n",
       "    <tr>\n",
       "      <th>10</th>\n",
       "      <td>4.745000</td>\n",
       "      <td>0.867567</td>\n",
       "      <td>Syria</td>\n",
       "    </tr>\n",
       "    <tr>\n",
       "      <th>11</th>\n",
       "      <td>-0.957352</td>\n",
       "      <td>-2.898439</td>\n",
       "      <td>Turkey</td>\n",
       "    </tr>\n",
       "    <tr>\n",
       "      <th>12</th>\n",
       "      <td>-3.994072</td>\n",
       "      <td>2.571620</td>\n",
       "      <td>United States</td>\n",
       "    </tr>\n",
       "  </tbody>\n",
       "</table>\n",
       "</div>"
      ],
      "text/plain": [
       "           x         y                country\n",
       "0   0.266371 -3.784399               Al-Qaida\n",
       "1  -3.587878  2.914003                  Egypt\n",
       "2   0.242095 -3.463979                  Hamas\n",
       "3   4.714143  0.662909              Hezbollah\n",
       "4   4.555367  1.152477                   Iran\n",
       "5   2.532204  4.436877                   Iraq\n",
       "6  -0.258022 -3.811316                   ISIS\n",
       "7  -3.873786  0.387117                 Israel\n",
       "8  -0.419265  0.117316  Palestinian Authority\n",
       "9  -3.964805  0.848246           Saudi Arabia\n",
       "10  4.745000  0.867567                  Syria\n",
       "11 -0.957352 -2.898439                 Turkey\n",
       "12 -3.994072  2.571620          United States"
      ]
     },
     "execution_count": 2,
     "metadata": {},
     "output_type": "execute_result"
    }
   ],
   "source": [
    "from sklearn.decomposition import PCA\n",
    "import seaborn as sns\n",
    "import pandas as pd\n",
    "%matplotlib inline\n",
    "%pylab inline\n",
    "pylab.rcParams['figure.figsize'] = (15, 10)\n",
    "\n",
    "pca = PCA(n_components=2)\n",
    "transformed = pca.fit_transform(relationship_matrix)\n",
    "df = pd.DataFrame(transformed, columns=['x', 'y'])\n",
    "df['country'] = headers\n",
    "df"
   ]
  },
  {
   "cell_type": "code",
   "execution_count": 3,
   "metadata": {
    "collapsed": false
   },
   "outputs": [
    {
     "data": {
      "image/png": "[encoded data removed]",
      "text/plain": [
       "<matplotlib.figure.Figure at 0x116bbc110>"
      ]
     },
     "metadata": {},
     "output_type": "display_data"
    }
   ],
   "source": [
    "from matplotlib import pyplot as plt\n",
    "\n",
    "fig = plt.figure()\n",
    "ax = fig.add_subplot(111)\n",
    "\n",
    "plt.plot(df['x'], df['y'], 'o')\n",
    "i = 0\n",
    "for x, y in zip(df['x'], df['y']):\n",
    "    country = df.iloc[i]['country']\n",
    "    ax.annotate('%s' % country, xy=(x, y), textcoords='data', fontsize=15) # <--\n",
    "    i += 1\n",
    "\n",
    "plt.grid()\n",
    "plt.show()\n"
   ]
  }
 ],
 "metadata": {
  "kernelspec": {
   "display_name": "Python 2",
   "language": "python",
   "name": "python2"
  },
  "language_info": {
   "codemirror_mode": {
    "name": "ipython",
    "version": 2
   },
   "file_extension": ".py",
   "mimetype": "text/x-python",
   "name": "python",
   "nbconvert_exporter": "python",
   "pygments_lexer": "ipython2",
   "version": "2.7.10"
  }
 },
 "nbformat": 4,
 "nbformat_minor": 0
}
